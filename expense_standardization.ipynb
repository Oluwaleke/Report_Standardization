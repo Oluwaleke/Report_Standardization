{
 "cells": [
  {
   "cell_type": "markdown",
   "id": "8d86ad5c-39c2-4aad-9c97-0f7cc90f06f6",
   "metadata": {},
   "source": [
    "####  Generate dummy raw CSV and inspect"
   ]
  },
  {
   "cell_type": "code",
   "execution_count": 2,
   "id": "130ec5b9-ec18-4fcb-8fac-f1869d89df4a",
   "metadata": {},
   "outputs": [
    {
     "name": "stdout",
     "output_type": "stream",
     "text": [
      "Saved raw CSV to data/raw_expense_report.csv\n"
     ]
    },
    {
     "data": {
      "text/html": [
       "<div>\n",
       "<style scoped>\n",
       "    .dataframe tbody tr th:only-of-type {\n",
       "        vertical-align: middle;\n",
       "    }\n",
       "\n",
       "    .dataframe tbody tr th {\n",
       "        vertical-align: top;\n",
       "    }\n",
       "\n",
       "    .dataframe thead th {\n",
       "        text-align: right;\n",
       "    }\n",
       "</style>\n",
       "<table border=\"1\" class=\"dataframe\">\n",
       "  <thead>\n",
       "    <tr style=\"text-align: right;\">\n",
       "      <th></th>\n",
       "      <th>Date</th>\n",
       "      <th>Vendor</th>\n",
       "      <th>Category</th>\n",
       "      <th>Amount</th>\n",
       "      <th>Payment</th>\n",
       "    </tr>\n",
       "  </thead>\n",
       "  <tbody>\n",
       "    <tr>\n",
       "      <th>0</th>\n",
       "      <td>02/14/2023</td>\n",
       "      <td>Foo-Bar Inc</td>\n",
       "      <td>Office Supplies</td>\n",
       "      <td>$4,869.00</td>\n",
       "      <td>Cash</td>\n",
       "    </tr>\n",
       "    <tr>\n",
       "      <th>1</th>\n",
       "      <td>03/25/2023</td>\n",
       "      <td>Foo-Bar Inc</td>\n",
       "      <td>Meals</td>\n",
       "      <td>$3,478.00</td>\n",
       "      <td>Bank Transfer</td>\n",
       "    </tr>\n",
       "    <tr>\n",
       "      <th>2</th>\n",
       "      <td>03/07/2023</td>\n",
       "      <td>Foo Bar, Inc.</td>\n",
       "      <td>Office Supplies</td>\n",
       "      <td>$2,232.00</td>\n",
       "      <td>Credit Card</td>\n",
       "    </tr>\n",
       "    <tr>\n",
       "      <th>3</th>\n",
       "      <td>03/23/2023</td>\n",
       "      <td>Foo-Bar Inc</td>\n",
       "      <td>Office Supplies</td>\n",
       "      <td>$2,173.00</td>\n",
       "      <td>Credit Card</td>\n",
       "    </tr>\n",
       "    <tr>\n",
       "      <th>4</th>\n",
       "      <td>03/11/2023</td>\n",
       "      <td>Foo Bar, Inc.</td>\n",
       "      <td>Travel</td>\n",
       "      <td>$2,506.00</td>\n",
       "      <td>Bank Transfer</td>\n",
       "    </tr>\n",
       "  </tbody>\n",
       "</table>\n",
       "</div>"
      ],
      "text/plain": [
       "         Date         Vendor         Category     Amount        Payment\n",
       "0  02/14/2023    Foo-Bar Inc  Office Supplies  $4,869.00           Cash\n",
       "1  03/25/2023    Foo-Bar Inc            Meals  $3,478.00  Bank Transfer\n",
       "2  03/07/2023  Foo Bar, Inc.  Office Supplies  $2,232.00    Credit Card\n",
       "3  03/23/2023    Foo-Bar Inc  Office Supplies  $2,173.00    Credit Card\n",
       "4  03/11/2023  Foo Bar, Inc.           Travel  $2,506.00  Bank Transfer"
      ]
     },
     "execution_count": 2,
     "metadata": {},
     "output_type": "execute_result"
    }
   ],
   "source": [
    "import pandas as pd\n",
    "import numpy as np\n",
    "import os\n",
    "\n",
    "# Ensure data folder exists\n",
    "os.makedirs('data', exist_ok=True)\n",
    "\n",
    "# Create 100 random expense records\n",
    "np.random.seed(0)\n",
    "dates   = pd.date_range('2023-01-01','2023-03-31',freq='D').to_pydatetime().tolist()\n",
    "vendors = ['ABC Co.', 'ABC Company', 'abc co', \n",
    "           'XYZ Ltd', 'X.Y.Z. Ltd', \n",
    "           'Foo-Bar Inc', 'Foo Bar, Inc.']\n",
    "categories    = ['Travel','Meals','Office Supplies', None]\n",
    "payment_types = ['Credit Card','Cash','Bank Transfer']\n",
    "\n",
    "rows = []\n",
    "for _ in range(100):\n",
    "    random_date = np.random.choice(dates)\n",
    "    d   = random_date.strftime('%m/%d/%Y')\n",
    "    v   = np.random.choice(vendors)\n",
    "    cat = np.random.choice(categories, p=[0.3,0.3,0.3,0.1])\n",
    "    amt = f\"${np.random.randint(10,5000):,}.00\"\n",
    "    pay = np.random.choice(payment_types)\n",
    "    rows.append([d, v, cat, amt, pay])\n",
    "\n",
    "df_raw = pd.DataFrame(rows, columns=['Date','Vendor','Category','Amount','Payment'])\n",
    "raw_csv = 'data/raw_expense_report.csv'\n",
    "df_raw.to_csv(raw_csv, index=False)\n",
    "\n",
    "# Show sample\n",
    "print(\"Saved raw CSV to\", raw_csv)\n",
    "df_raw.head()\n"
   ]
  },
  {
   "cell_type": "markdown",
   "id": "953de09c-b697-4465-9c2a-3cf4e35637b9",
   "metadata": {},
   "source": [
    "#### Load & Inspect Raw Data"
   ]
  },
  {
   "cell_type": "code",
   "execution_count": 11,
   "id": "163c5f16-2532-4f23-b776-5f69f138fc94",
   "metadata": {},
   "outputs": [
    {
     "name": "stdout",
     "output_type": "stream",
     "text": [
      "🔍 Raw Data Preview:\n"
     ]
    },
    {
     "data": {
      "text/html": [
       "<div>\n",
       "<style scoped>\n",
       "    .dataframe tbody tr th:only-of-type {\n",
       "        vertical-align: middle;\n",
       "    }\n",
       "\n",
       "    .dataframe tbody tr th {\n",
       "        vertical-align: top;\n",
       "    }\n",
       "\n",
       "    .dataframe thead th {\n",
       "        text-align: right;\n",
       "    }\n",
       "</style>\n",
       "<table border=\"1\" class=\"dataframe\">\n",
       "  <thead>\n",
       "    <tr style=\"text-align: right;\">\n",
       "      <th></th>\n",
       "      <th>Date</th>\n",
       "      <th>Vendor</th>\n",
       "      <th>Category</th>\n",
       "      <th>Amount</th>\n",
       "      <th>Payment</th>\n",
       "    </tr>\n",
       "  </thead>\n",
       "  <tbody>\n",
       "    <tr>\n",
       "      <th>0</th>\n",
       "      <td>02/14/2023</td>\n",
       "      <td>Foo-Bar Inc</td>\n",
       "      <td>Office Supplies</td>\n",
       "      <td>$4,869.00</td>\n",
       "      <td>Cash</td>\n",
       "    </tr>\n",
       "    <tr>\n",
       "      <th>1</th>\n",
       "      <td>03/25/2023</td>\n",
       "      <td>Foo-Bar Inc</td>\n",
       "      <td>Meals</td>\n",
       "      <td>$3,478.00</td>\n",
       "      <td>Bank Transfer</td>\n",
       "    </tr>\n",
       "    <tr>\n",
       "      <th>2</th>\n",
       "      <td>03/07/2023</td>\n",
       "      <td>Foo Bar, Inc.</td>\n",
       "      <td>Office Supplies</td>\n",
       "      <td>$2,232.00</td>\n",
       "      <td>Credit Card</td>\n",
       "    </tr>\n",
       "    <tr>\n",
       "      <th>3</th>\n",
       "      <td>03/23/2023</td>\n",
       "      <td>Foo-Bar Inc</td>\n",
       "      <td>Office Supplies</td>\n",
       "      <td>$2,173.00</td>\n",
       "      <td>Credit Card</td>\n",
       "    </tr>\n",
       "    <tr>\n",
       "      <th>4</th>\n",
       "      <td>03/11/2023</td>\n",
       "      <td>Foo Bar, Inc.</td>\n",
       "      <td>Travel</td>\n",
       "      <td>$2,506.00</td>\n",
       "      <td>Bank Transfer</td>\n",
       "    </tr>\n",
       "  </tbody>\n",
       "</table>\n",
       "</div>"
      ],
      "text/plain": [
       "         Date         Vendor         Category     Amount        Payment\n",
       "0  02/14/2023    Foo-Bar Inc  Office Supplies  $4,869.00           Cash\n",
       "1  03/25/2023    Foo-Bar Inc            Meals  $3,478.00  Bank Transfer\n",
       "2  03/07/2023  Foo Bar, Inc.  Office Supplies  $2,232.00    Credit Card\n",
       "3  03/23/2023    Foo-Bar Inc  Office Supplies  $2,173.00    Credit Card\n",
       "4  03/11/2023  Foo Bar, Inc.           Travel  $2,506.00  Bank Transfer"
      ]
     },
     "metadata": {},
     "output_type": "display_data"
    },
    {
     "name": "stdout",
     "output_type": "stream",
     "text": [
      "\n",
      "⚠️ Missing Values by Column:\n",
      "Date        0\n",
      "Vendor      0\n",
      "Category    7\n",
      "Amount      0\n",
      "Payment     0\n",
      "dtype: int64\n",
      "\n",
      "⚠️ data type:\n",
      "Date        object\n",
      "Vendor      object\n",
      "Category    object\n",
      "Amount      object\n",
      "Payment     object\n",
      "dtype: object\n"
     ]
    }
   ],
   "source": [
    "import pandas as pd\n",
    "\n",
    "# Load the CSV created\n",
    "df = pd.read_csv('data/raw_expense_report.csv')\n",
    "\n",
    "# Preview the first 5 rows\n",
    "print(\"🔍 Raw Data Preview:\")\n",
    "display(df.head())\n",
    "\n",
    "# Check for missing values\n",
    "print(\"\\n⚠️ Missing Values by Column:\")\n",
    "\n",
    "print(df.isna().sum())\n",
    "\n",
    "print(\"\\n⚠️ data type:\")\n",
    "\n",
    "print(df.dtypes)"
   ]
  },
  {
   "cell_type": "markdown",
   "id": "f1e8237c-8175-4750-9d63-8f22f8ac50fe",
   "metadata": {},
   "source": [
    "#### Clean Dates and Amounts"
   ]
  },
  {
   "cell_type": "code",
   "execution_count": 12,
   "id": "8532d8ab-9778-4b06-b154-117bcaaaf20c",
   "metadata": {},
   "outputs": [
    {
     "name": "stdout",
     "output_type": "stream",
     "text": [
      "✅ Types after conversion:\n",
      "Date        datetime64[ns]\n",
      "Vendor              object\n",
      "Category            object\n",
      "Amount             float64\n",
      "Payment             object\n",
      "dtype: object\n",
      "\n",
      "💰 Amount summary:\n",
      "count     100.000000\n",
      "mean     2408.290000\n",
      "std      1377.152305\n",
      "min        34.000000\n",
      "25%      1203.500000\n",
      "50%      2372.000000\n",
      "75%      3429.500000\n",
      "max      4994.000000\n",
      "Name: Amount, dtype: float64\n"
     ]
    }
   ],
   "source": [
    "# Convert 'Date' from string to datetime\n",
    "df['Date'] = pd.to_datetime(df['Date'], format='%m/%d/%Y')\n",
    "\n",
    "# Strip '$' and ',' from 'Amount' and cast to float\n",
    "df['Amount'] = (\n",
    "    df['Amount']\n",
    "      .str.replace(r'[\\$,]', '', regex=True)\n",
    "      .astype(float)\n",
    ")\n",
    "\n",
    "# Verify types and a quick summary\n",
    "print(\"✅ Types after conversion:\")\n",
    "print(df.dtypes)\n",
    "print(\"\\n💰 Amount summary:\")\n",
    "print(df['Amount'].describe())"
   ]
  },
  {
   "cell_type": "markdown",
   "id": "234e296b-899b-44dd-a749-cd46639dc34a",
   "metadata": {},
   "source": [
    "#### Normalize Vendor Names"
   ]
  },
  {
   "cell_type": "code",
   "execution_count": 13,
   "id": "9fda6483-a28c-46fd-912f-897e48efdd57",
   "metadata": {},
   "outputs": [
    {
     "name": "stdout",
     "output_type": "stream",
     "text": [
      "['Foo Bar Inc' 'ABC Company' 'XYZ Ltd']\n"
     ]
    }
   ],
   "source": [
    "import re\n",
    "\n",
    "def normalize_vendor(v):\n",
    "    v0 = str(v).strip().lower()\n",
    "    if re.search(r'abc\\s*(co|company)?', v0):\n",
    "        return 'ABC Company'\n",
    "    elif re.search(r'x[\\W_]*y[\\W_]*z\\s*(ltd)?', v0):\n",
    "        return 'XYZ Ltd'\n",
    "    elif re.search(r'foo[\\W_]*bar', v0):\n",
    "        return 'Foo Bar Inc'\n",
    "    return str(v).strip().title()\n",
    "\n",
    "df['Vendor'] = df['Vendor'].apply(normalize_vendor)\n",
    "\n",
    "print(df['Vendor'].unique())\n"
   ]
  },
  {
   "cell_type": "markdown",
   "id": "58d23c3f-ee14-4c36-83c5-50d56b1fe68b",
   "metadata": {},
   "source": [
    "###### Here:\n",
    "###### We maps all variations of “ABC Co.” → ABC Company, “XYZ Ltd” variants → XYZ Ltd, etc.\n",
    "\n",
    "###### Title-cases any other vendor strings."
   ]
  },
  {
   "cell_type": "markdown",
   "id": "c204a8f8-a8c4-4eb9-b2e8-3c187c6b38b3",
   "metadata": {},
   "source": [
    "#### Fill Missing Categories & Flag Duplicates"
   ]
  },
  {
   "cell_type": "code",
   "execution_count": 14,
   "id": "0ed3f761-8660-4ca0-8b57-718222fd7d4e",
   "metadata": {},
   "outputs": [
    {
     "data": {
      "text/html": [
       "<div>\n",
       "<style scoped>\n",
       "    .dataframe tbody tr th:only-of-type {\n",
       "        vertical-align: middle;\n",
       "    }\n",
       "\n",
       "    .dataframe tbody tr th {\n",
       "        vertical-align: top;\n",
       "    }\n",
       "\n",
       "    .dataframe thead th {\n",
       "        text-align: right;\n",
       "    }\n",
       "</style>\n",
       "<table border=\"1\" class=\"dataframe\">\n",
       "  <thead>\n",
       "    <tr style=\"text-align: right;\">\n",
       "      <th></th>\n",
       "      <th>Date</th>\n",
       "      <th>Vendor</th>\n",
       "      <th>Category</th>\n",
       "      <th>Amount</th>\n",
       "      <th>Payment</th>\n",
       "      <th>Duplicate</th>\n",
       "    </tr>\n",
       "  </thead>\n",
       "  <tbody>\n",
       "    <tr>\n",
       "      <th>0</th>\n",
       "      <td>2023-02-14</td>\n",
       "      <td>Foo Bar Inc</td>\n",
       "      <td>Office Supplies</td>\n",
       "      <td>4869.0</td>\n",
       "      <td>Cash</td>\n",
       "      <td>False</td>\n",
       "    </tr>\n",
       "    <tr>\n",
       "      <th>1</th>\n",
       "      <td>2023-03-25</td>\n",
       "      <td>Foo Bar Inc</td>\n",
       "      <td>Meals</td>\n",
       "      <td>3478.0</td>\n",
       "      <td>Bank Transfer</td>\n",
       "      <td>False</td>\n",
       "    </tr>\n",
       "    <tr>\n",
       "      <th>2</th>\n",
       "      <td>2023-03-07</td>\n",
       "      <td>Foo Bar Inc</td>\n",
       "      <td>Office Supplies</td>\n",
       "      <td>2232.0</td>\n",
       "      <td>Credit Card</td>\n",
       "      <td>False</td>\n",
       "    </tr>\n",
       "    <tr>\n",
       "      <th>3</th>\n",
       "      <td>2023-03-23</td>\n",
       "      <td>Foo Bar Inc</td>\n",
       "      <td>Office Supplies</td>\n",
       "      <td>2173.0</td>\n",
       "      <td>Credit Card</td>\n",
       "      <td>False</td>\n",
       "    </tr>\n",
       "    <tr>\n",
       "      <th>4</th>\n",
       "      <td>2023-03-11</td>\n",
       "      <td>Foo Bar Inc</td>\n",
       "      <td>Travel</td>\n",
       "      <td>2506.0</td>\n",
       "      <td>Bank Transfer</td>\n",
       "      <td>False</td>\n",
       "    </tr>\n",
       "  </tbody>\n",
       "</table>\n",
       "</div>"
      ],
      "text/plain": [
       "        Date       Vendor         Category  Amount        Payment  Duplicate\n",
       "0 2023-02-14  Foo Bar Inc  Office Supplies  4869.0           Cash      False\n",
       "1 2023-03-25  Foo Bar Inc            Meals  3478.0  Bank Transfer      False\n",
       "2 2023-03-07  Foo Bar Inc  Office Supplies  2232.0    Credit Card      False\n",
       "3 2023-03-23  Foo Bar Inc  Office Supplies  2173.0    Credit Card      False\n",
       "4 2023-03-11  Foo Bar Inc           Travel  2506.0  Bank Transfer      False"
      ]
     },
     "metadata": {},
     "output_type": "display_data"
    }
   ],
   "source": [
    "# Fill blanks in Category\n",
    "df['Category'] = df['Category'].fillna('Uncategorized')\n",
    "\n",
    "# Flag exact duplicates on Date+Vendor+Amount\n",
    "df['Duplicate'] = df.duplicated(subset=['Date','Vendor','Amount'], keep=False)\n",
    "\n",
    "display(df.head())"
   ]
  },
  {
   "cell_type": "markdown",
   "id": "d0b2b169-2646-4e86-82cc-3e745325bd20",
   "metadata": {},
   "source": [
    "#### Saving the Final Cleaned Report"
   ]
  },
  {
   "cell_type": "code",
   "execution_count": 15,
   "id": "9e93dbdc-19b7-4006-bc6a-e7e466e2fb63",
   "metadata": {},
   "outputs": [
    {
     "name": "stdout",
     "output_type": "stream",
     "text": [
      "✅ Cleaned data saved to: output/cleaned_expense_report.csv\n"
     ]
    }
   ],
   "source": [
    "import os\n",
    "\n",
    "output_csv = 'output/cleaned_expense_report.csv'\n",
    "os.makedirs(os.path.dirname(output_csv), exist_ok=True)\n",
    "df.to_csv(output_csv, index=False)\n",
    "print(\"✅ Cleaned data saved to:\", output_csv)"
   ]
  },
  {
   "cell_type": "code",
   "execution_count": null,
   "id": "8670893c-93b3-4c24-aa17-a2f0a9aa3cdf",
   "metadata": {},
   "outputs": [],
   "source": []
  }
 ],
 "metadata": {
  "kernelspec": {
   "display_name": "Python 3 (ipykernel)",
   "language": "python",
   "name": "python3"
  },
  "language_info": {
   "codemirror_mode": {
    "name": "ipython",
    "version": 3
   },
   "file_extension": ".py",
   "mimetype": "text/x-python",
   "name": "python",
   "nbconvert_exporter": "python",
   "pygments_lexer": "ipython3",
   "version": "3.9.15"
  }
 },
 "nbformat": 4,
 "nbformat_minor": 5
}
